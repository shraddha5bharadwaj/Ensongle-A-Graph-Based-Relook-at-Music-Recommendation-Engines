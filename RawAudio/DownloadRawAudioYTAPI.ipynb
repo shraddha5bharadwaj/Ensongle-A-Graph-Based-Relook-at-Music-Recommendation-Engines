{
  "cells": [
    {
      "cell_type": "code",
      "execution_count": null,
      "metadata": {
        "id": "O-gu9X-xOB4o"
      },
      "outputs": [],
      "source": [
        "# !pip install pytube\n",
        "# !pip install youtube-search-python\n",
        "# !pip install --trusted-host pypi.python.org moviepy\n",
        "# !pip install imageio-ffmpeg\n",
        "# !pip install ytmusicapi\n",
        "# !pip install ffmpeg\n",
        "# !pip install imageio-ffmpeg"
      ]
    },
    {
      "cell_type": "code",
      "execution_count": null,
      "metadata": {
        "id": "g8ZA74P3N1Q9"
      },
      "outputs": [],
      "source": [
        "from pytube import YouTube\n",
        "from youtubesearchpython import VideosSearch\n",
        "from tqdm import tqdm\n",
        "import pandas as pd\n",
        "from moviepy.video.io.ffmpeg_tools import ffmpeg_extract_subclip\n",
        "import os\n",
        "import sqlite3\n",
        "import json\n",
        "from ytmusicapi import YTMusic\n",
        "import imageio"
      ]
    },
    {
      "cell_type": "code",
      "execution_count": null,
      "metadata": {
        "id": "6MTcE5ffzM9c"
      },
      "outputs": [],
      "source": [
        "headers = #Provide headers to your youtube music\n",
        "# Create Headers auth json file in this directory\n",
        "YTMusic.setup(filepath=\"headers_auth.json\", headers_raw=headers)\n",
        "ytmusic = YTMusic('headers_auth.json')"
      ]
    },
    {
      "cell_type": "code",
      "execution_count": null,
      "metadata": {
        "id": "I7uaDfilsxrH"
      },
      "outputs": [],
      "source": [
        "import subprocess\n",
        "\n",
        "def get_duration(input_video):\n",
        "    cmd = [\"ffprobe\", \"-i\", input_video, \"-show_entries\", \"format=duration\",\n",
        "           \"-v\", \"quiet\", \"-sexagesimal\", \"-of\", \"csv=p=0\"]\n",
        "    x = subprocess.check_output(cmd).decode(\"utf-8\").strip()\n",
        "    lis = x.split(\":\")\n",
        "    seconds = 0\n",
        "    seconds += float(lis[0])*3600\n",
        "    seconds += float(lis[1])*60\n",
        "    seconds += float(lis[2])\n",
        "    return seconds"
      ]
    },
    {
      "cell_type": "code",
      "execution_count": null,
      "metadata": {
        "id": "vFbFF_eKN1RC"
      },
      "outputs": [],
      "source": [
        "filtered_triplet = pd.read_csv(\"filtered_triplets.csv\") # Path to the triplets you want the songs of\n",
        "print(filtered_triplet.shape)\n",
        "filtered_triplet.head()\n",
        "songid_set = set(filtered_triplet[\"song\"])"
      ]
    },
    {
      "cell_type": "code",
      "execution_count": null,
      "metadata": {
        "id": "_ERKbZ0x_hyg"
      },
      "outputs": [],
      "source": [
        "# cnx = sqlite3.connect('track_metadata.db')\n",
        "# df = pd.read_sql_query(\"SELECT * FROM songs\", cnx)\n",
        "# dic = {}\n",
        "# for index, row in tqdm(df.iterrows()):\n",
        "#     if row[\"song_id\"] in songid_set:\n",
        "#         dic[row[\"song_id\"]] = row[\"title\"] + \" \" + row[\"artist_name\"]\n",
        "# a_file = open(\"song_search.json\", \"w\")\n",
        "# json.dump(dic, a_file)\n",
        "# a_file.close()"
      ]
    },
    {
      "cell_type": "code",
      "execution_count": null,
      "metadata": {
        "id": "mHfiobZbiJXB"
      },
      "outputs": [],
      "source": [
        "a_file = open(\"song_search.json\", \"r\") # Song search is a dictionary with key as song_id and value as the search string (in our case song name with artist name)\n",
        "dic = json.load(a_file)\n",
        "a_file.close()\n",
        "print(len(dic))"
      ]
    },
    {
      "cell_type": "code",
      "execution_count": null,
      "metadata": {
        "id": "IJhF6XN4ldmq"
      },
      "outputs": [],
      "source": [
        "temp_ids = sorted(list(dic.keys()))\n",
        "dic_temp = {}\n",
        "for i in temp_ids:\n",
        "    dic_temp[i] = dic[i]"
      ]
    },
    {
      "cell_type": "code",
      "execution_count": null,
      "metadata": {
        "id": "qVdgOHiCN1RC"
      },
      "outputs": [],
      "source": [
        "error_indices=[]\n",
        "for temp_id in tqdm(dic_temp, ncols = 100):\n",
        "    try:\n",
        "        path1=\"Songs/\"+temp_id+\"_1.mp4\"\n",
        "        path=\"Songs/\"+temp_id+\".mp4\"\n",
        "        search_results = ytmusic.search(dic[temp_id])\n",
        "        yt = YouTube(ytmusic.get_song(search_results[0][\"videoId\"])[\"microformat\"][\"microformatDataRenderer\"][\"iosAppArguments\"])\n",
        "        \n",
        "        yt.streams.get_audio_only().download(output_path='Songs',filename=temp_id+\"_1.mp4\")\n",
        "        sec = get_duration(path1)\n",
        "        if sec > 90:\n",
        "            ffmpeg_extract_subclip(path1, 60, 90, targetname=path)\n",
        "        elif sec <= 30:\n",
        "            # os.remove(path1)\n",
        "            error_indices.append(temp_id)\n",
        "            with open(\"error_log.txt\", \"a\") as fp: \n",
        "                fp.write(str(temp_id)+\"\\n\")\n",
        "        elif sec > 60:\n",
        "            ffmpeg_extract_subclip(path1, 30, 60, targetname=path)\n",
        "        else:\n",
        "            ffmpeg_extract_subclip(path1, int(sec)-30, int(sec), targetname=path)\n",
        "        os.remove(path1)\n",
        "    except:\n",
        "        error_indices.append(temp_id)\n",
        "        with open(\"error_log.txt\", \"a\") as fp: \n",
        "            fp.write(str(temp_id)+\"\\n\")"
      ]
    }
  ],
  "metadata": {
    "colab": {
      "collapsed_sections": [],
      "name": "api.ipynb",
      "provenance": []
    },
    "interpreter": {
      "hash": "5f7ff212da0a5c6715015bf25b42af0be30887e238caa227b88730d1a9a929a4"
    },
    "kernelspec": {
      "display_name": "Python 3.8.10 64-bit ('Capstone': venv)",
      "name": "python3"
    },
    "language_info": {
      "codemirror_mode": {
        "name": "ipython",
        "version": 3
      },
      "file_extension": ".py",
      "mimetype": "text/x-python",
      "name": "python",
      "nbconvert_exporter": "python",
      "pygments_lexer": "ipython3",
      "version": "3.8.10"
    },
    "orig_nbformat": 4
  },
  "nbformat": 4,
  "nbformat_minor": 0
}
