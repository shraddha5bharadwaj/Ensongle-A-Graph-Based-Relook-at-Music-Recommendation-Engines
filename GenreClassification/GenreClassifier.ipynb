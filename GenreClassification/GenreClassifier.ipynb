{
 "cells": [
  {
   "cell_type": "code",
   "execution_count": null,
   "metadata": {},
   "outputs": [],
   "source": [
    "import tensorflow as tf\n",
    "import numpy as np\n",
    "import math\n",
    "import matplotlib.pyplot as plt\n",
    "from keras.models import Sequential\n",
    "from keras.layers import Dense\n",
    "import keras\n",
    "import livelossplot\n",
    "import pandas as pd\n",
    "import json\n",
    "import umap.umap_ as umap\n",
    "import sklearn.cluster as cluster"
   ]
  },
  {
   "cell_type": "code",
   "execution_count": null,
   "metadata": {},
   "outputs": [],
   "source": [
    "genre = pd.read_csv('genre_labels.csv')\n",
    "songs = pd.read_csv('song_order.txt', names = ['song_id'])\n",
    "songs_with_genre = set(genre['song_id'])"
   ]
  },
  {
   "cell_type": "code",
   "execution_count": null,
   "metadata": {},
   "outputs": [],
   "source": [
    "with open('full_normalized_song_features_128.json') as f: #song metadata and raw audio vectorised data\n",
    "    song_data = json.load(f)"
   ]
  },
  {
   "cell_type": "code",
   "execution_count": null,
   "metadata": {},
   "outputs": [],
   "source": [
    "inp_np = []\n",
    "c = 0\n",
    "for i in sorted(song_data):\n",
    "    if i in songs_with_genre:\n",
    "        inp_np.append(np.array(song_data[i]))\n",
    "        c += 1\n",
    "\n",
    "out_np = genre.sort_values(by='song_id').reset_index(drop=True).iloc[:,1]\n",
    "genre_set = list(set(out_np))\n",
    "\n",
    "genre_to_encode = {}\n",
    "\n",
    "for ind, gen in enumerate(genre_set):\n",
    "    genre_to_encode[gen] = ind\n",
    "\n",
    "for i in range(out_np.shape[0]):\n",
    "    out_np[i] = genre_to_encode[out_np[i]]\n",
    "\n",
    "inp_np = np.array(inp_np).astype(np.float) #input vectors for the model\n",
    "out_np = np.array(out_np).astype(np.float) #corresponding labels"
   ]
  },
  {
   "cell_type": "markdown",
   "metadata": {},
   "source": [
    "Classification Model Architecture"
   ]
  },
  {
   "cell_type": "code",
   "execution_count": null,
   "metadata": {},
   "outputs": [],
   "source": [
    "model= tf.keras.Sequential([\n",
    "  tf.keras.layers.Dense(inp_np.shape[1], activation='relu'),\n",
    "  tf.keras.layers.Dense(256, activation='relu'),\n",
    "  tf.keras.layers.Dropout(0.1),\n",
    "  tf.keras.layers.Dense(512, activation='relu'),\n",
    "  tf.keras.layers.Dropout(0.1),\n",
    "  tf.keras.layers.Dense(1024, activation='relu'),\n",
    "  tf.keras.layers.Dropout(0.1),\n",
    "  tf.keras.layers.Dense(512, activation='relu'),\n",
    "  tf.keras.layers.Dropout(0.1),\n",
    "  tf.keras.layers.Dense(256, activation='relu'),\n",
    "  tf.keras.layers.Dropout(0.1),\n",
    "  tf.keras.layers.Dense(128, activation='relu'),\n",
    "  tf.keras.layers.Dropout(0.1),\n",
    "  tf.keras.layers.Dense(64, activation='relu'),\n",
    "  tf.keras.layers.Dropout(0.1),\n",
    "  tf.keras.layers.Dense(15, activation='softmax')\n",
    "])"
   ]
  },
  {
   "cell_type": "code",
   "execution_count": null,
   "metadata": {},
   "outputs": [],
   "source": [
    "plot_losses1 = livelossplot.PlotLossesKeras()\n",
    "model.compile(\n",
    "              loss=tf.keras.losses.SparseCategoricalCrossentropy(),\n",
    "              metrics=['accuracy'],\n",
    "              optimizer=tf.keras.optimizers.Adam(learning_rate=0.005))\n",
    "\n"
   ]
  },
  {
   "cell_type": "code",
   "execution_count": null,
   "metadata": {},
   "outputs": [],
   "source": [
    "model.fit(inp_np,out_np,\n",
    "                callbacks=[plot_losses1],\n",
    "                verbose=1,\n",
    "                batch_size=32, epochs=20,validation_split = 0.2)"
   ]
  },
  {
   "cell_type": "code",
   "execution_count": null,
   "metadata": {},
   "outputs": [],
   "source": [
    "model.summary()"
   ]
  },
  {
   "cell_type": "markdown",
   "metadata": {},
   "source": [
    "Data Visualisation using UMAP and K-means"
   ]
  },
  {
   "cell_type": "code",
   "execution_count": null,
   "metadata": {},
   "outputs": [],
   "source": [
    "standard_embedding = umap.UMAP(random_state=42).fit_transform(inp_np[:,:64])\n",
    "plt.scatter(standard_embedding[:, 0], standard_embedding[:, 1], c=out_np.astype(int), s=0.1, cmap='Spectral')\n"
   ]
  },
  {
   "cell_type": "code",
   "execution_count": null,
   "metadata": {},
   "outputs": [],
   "source": [
    "kmeans_labels = cluster.KMeans(n_clusters=14).fit_predict(inp_np)\n",
    "plt.scatter(standard_embedding[:, 0], standard_embedding[:, 1], c=kmeans_labels, s=0.1, cmap='Spectral');"
   ]
  }
 ],
 "metadata": {
  "interpreter": {
   "hash": "921f7570166ab80906c3575d5256df6fa69e18cc94f33ba03013ff1bf0421913"
  },
  "kernelspec": {
   "display_name": "Python 3.8.10 64-bit ('capstone': venv)",
   "name": "python3"
  },
  "language_info": {
   "codemirror_mode": {
    "name": "ipython",
    "version": 3
   },
   "file_extension": ".py",
   "mimetype": "text/x-python",
   "name": "python",
   "nbconvert_exporter": "python",
   "pygments_lexer": "ipython3",
   "version": "3.8.10"
  },
  "orig_nbformat": 4
 },
 "nbformat": 4,
 "nbformat_minor": 2
}
